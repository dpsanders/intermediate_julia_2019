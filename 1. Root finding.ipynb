{
 "cells": [
  {
   "cell_type": "markdown",
   "metadata": {},
   "source": [
    "# Intermediate Julia for scientific computing"
   ]
  },
  {
   "cell_type": "markdown",
   "metadata": {},
   "source": [
    "This workshop is designed to introduce two fundamental concepts in Julia: **types** and **metaprogramming**.\n",
    "\n",
    "In order to cover various key uses of types in Julia, we have chosen to frame the discussion around a concrete topic in scientific computing, namely **root-finding**. \n",
    "The goal is *not* to learn algorithms for root finding *per se*, but rather to have a (pseudo-)real context in which to explore various concepts centered around types and how they arise naturally in real applications of Julia, in particular applications of **multiple dispatch**, which is one of the core choices in Julia that differentiate it from other common languages.\n",
    "\n",
    "We will implement a couple of root-finding algorithms just to have something to work with. These will just be toy implementations that are far away from the best implementations. \n",
    "\n",
    "Instead we should use one of the high-quality packages that are available in Julia for this purpose. The large number of them shows the importance of root finding. The ones that I am aware of are the following (in alphabetical order):"
   ]
  },
  {
   "cell_type": "markdown",
   "metadata": {},
   "source": [
    "- Single root of a nonlinear function:\n",
    "    - [`NLsolve.jl`](https://github.com/JuliaNLSolvers/NLsolve.jl)\n",
    "    - [`Roots.jl`](https://github.com/JuliaMath/Roots.jl)\n",
    "\n",
    "- All roots of polynomial:\n",
    "    - [`HomotopyContinuation.jl`](https://www.juliahomotopycontinuation.org)\n",
    "    - [`PolynomialRoots.jl`](https://github.com/giordano/PolynomialRoots.jl)\n",
    "    - [`Polynomials.jl`](https://github.com/JuliaMath/Polynomials.jl)\n",
    "    \n",
    "- All roots of a nonlinear function:\n",
    "    - [`ApproxFun.jl`](https://github.com/JuliaApproximation/ApproxFun.jl)\n",
    "    - [`IntervalRootFinding.jl`](https://github.com/JuliaIntervals/IntervalRootFinding.jl)\n",
    "    - [`MDBM.jl`](https://github.com/bachrathyd/MDBM.jl)\n",
    "    - [`Roots.jl`](https://github.com/JuliaMath/Roots.jl)"
   ]
  },
  {
   "cell_type": "markdown",
   "metadata": {},
   "source": [
    "Each of these uses different techniques, with different advantages and disadvantages."
   ]
  },
  {
   "cell_type": "markdown",
   "metadata": {},
   "source": [
    "The challenge exercise for the workshop is: develop a package which integrates all of these disparate packages into a coherent whole!"
   ]
  },
  {
   "cell_type": "markdown",
   "metadata": {},
   "source": [
    "### Logistics of the workshop"
   ]
  },
  {
   "cell_type": "markdown",
   "metadata": {},
   "source": [
    "The workshop is based around a series of exercises to be done during the workshop. We will pause to work on the exercises and then I will discuss possible solutions during the workshop."
   ]
  },
  {
   "cell_type": "markdown",
   "metadata": {},
   "source": [
    "These techniques are useful for both users and developers; indeed, in Julia the distinction between users and developers is not useful, since it's much easier than in other languages to join the two categories together."
   ]
  },
  {
   "cell_type": "markdown",
   "metadata": {},
   "source": [
    "### Outline"
   ]
  },
  {
   "cell_type": "markdown",
   "metadata": {},
   "source": [
    "We will start by quickly reviewing roots of functions and quickly reviewing one of the standard algorithms, **Newton's algorithm**. We will restrict to finding roots of 1D functions for simplicity.\n",
    "\n",
    "Newton's algorithm requires the calculation of derivatives, for which several choices of algorithm are available. We will see how to encode the choice of algorithm using dispatch.\n",
    "\n",
    "Then we will define types which will contain all information about a root-finding problem."
   ]
  },
  {
   "cell_type": "markdown",
   "metadata": {},
   "source": [
    "## Roots"
   ]
  },
  {
   "cell_type": "markdown",
   "metadata": {},
   "source": [
    "Given a function $f: \\mathbb{R} \\to \\mathbb{R}$ (i.e. that accepts a single real number as argument and returns another real number), recall that a **root** or **zero** of the function is a number $x^*$ such that\n",
    "\n",
    "$$ f(x^*) = 0, $$\n",
    "\n",
    "i.e. it is a solution of the equation $f(x) = 0$.\n",
    "\n",
    "In general it is impossible to solve this equation exactly for $x^*$, so we use iterative numerical algorithms instead."
   ]
  },
  {
   "cell_type": "markdown",
   "metadata": {},
   "source": [
    "#### Example"
   ]
  },
  {
   "cell_type": "markdown",
   "metadata": {},
   "source": [
    "Recall that the function $f$ given by $f(x) := x^2 - 2$ has exactly two roots, at $x^*_1 = +\\sqrt{2}$ and $x^*_2 = -\\sqrt{2}$. Note that it is impossible to represent these values exactly using floating-point arithmetic."
   ]
  },
  {
   "cell_type": "markdown",
   "metadata": {},
   "source": [
    "## Newton algorithm"
   ]
  },
  {
   "cell_type": "markdown",
   "metadata": {},
   "source": [
    "The Newton algorithm for (possibly) finding a root of a nonlinear function $f(x)$ in 1D is the following iteration:"
   ]
  },
  {
   "cell_type": "markdown",
   "metadata": {},
   "source": [
    "$$x_{n+1} = x_n - \\frac{f(x_n)}{f'(x_n)},$$\n",
    "\n",
    "where $f'$ is the derivative of $f$. We start from an initial guess $x_0$ that can be almost anything (except points for which $f'(x_0) = 0$)."
   ]
  },
  {
   "cell_type": "markdown",
   "metadata": {},
   "source": [
    "#### Exercise 1"
   ]
  },
  {
   "cell_type": "markdown",
   "metadata": {},
   "source": [
    "1. Implement the Newton algorithm for a fixed number $n$ of steps in a function `newton`, starting from a given starting point $x_0$.  \n",
    "\n",
    "    Hint: Which information does the function require?\n",
    "\n",
    "\n",
    "2. Does your function work with other number types, such as `BigFloat`? What do you need in order to run it with those types? Use it to calculate $\\sqrt{2}$. How many decimal places are correct with the standard precision of `BigFloat`?"
   ]
  },
  {
   "cell_type": "code",
   "execution_count": 14,
   "metadata": {},
   "outputs": [
    {
     "ename": "ErrorException",
     "evalue": "syntax: no outer local variable declaration exists for \"for outer\"",
     "output_type": "error",
     "traceback": [
      "syntax: no outer local variable declaration exists for \"for outer\"",
      ""
     ]
    }
   ],
   "source": [
    "f(x) = x^2 - 2\n",
    "df(x) = 2x\n",
    "\n",
    "function newton(f, df, x0, n=10)\n",
    "    x = x0\n",
    "    x_new = -3.5\n",
    "    \n",
    "    num_iterations = 0\n",
    "    \n",
    "    for i in 1:n\n",
    "        x_new = x - f(x) / df(x)\n",
    "        \n",
    "        x = x_new\n",
    "    end\n",
    "    \n",
    "    return x_new\n",
    "end"
   ]
  },
  {
   "cell_type": "code",
   "execution_count": 15,
   "metadata": {},
   "outputs": [
    {
     "data": {
      "text/plain": [
       "(1.414213562373095, 10)"
      ]
     },
     "execution_count": 15,
     "metadata": {},
     "output_type": "execute_result"
    }
   ],
   "source": [
    "newton(f, df, 3.0)"
   ]
  },
  {
   "cell_type": "code",
   "execution_count": 5,
   "metadata": {},
   "outputs": [
    {
     "data": {
      "text/plain": [
       "1.4142135623730951"
      ]
     },
     "execution_count": 5,
     "metadata": {},
     "output_type": "execute_result"
    }
   ],
   "source": [
    "sqrt(2)"
   ]
  },
  {
   "cell_type": "markdown",
   "metadata": {},
   "source": [
    "## Calculating derivatives"
   ]
  },
  {
   "cell_type": "markdown",
   "metadata": {},
   "source": [
    "The Newton algorithm requires us to specify the derivative of a function. If $f$ is a complicated function, we certainly don't want to do that by hand.\n",
    "\n",
    "One standard solution is to use a *finite-difference approximation*:\n",
    "\n",
    "$$f'(a) \\simeq \\frac{f(a + h) - f(a - h)}{2h}.$$"
   ]
  },
  {
   "cell_type": "markdown",
   "metadata": {},
   "source": [
    "#### Exercise 2"
   ]
  },
  {
   "cell_type": "markdown",
   "metadata": {},
   "source": [
    "1. Implement a function `finite_difference` with a default value $h = 0.001$.\n",
    "\n",
    "\n",
    "2. Implement a version of `newton` that does not take the derivative as argument and uses `finite_difference` to calculate the derivative. This version of `newton` should **re-use** the previous version by defining the function `fp` and calling that version."
   ]
  },
  {
   "cell_type": "code",
   "execution_count": 16,
   "metadata": {},
   "outputs": [
    {
     "data": {
      "text/plain": [
       "finite_difference (generic function with 2 methods)"
      ]
     },
     "execution_count": 16,
     "metadata": {},
     "output_type": "execute_result"
    }
   ],
   "source": [
    "function finite_difference(f, a, h=0.001)\n",
    "    return ( f(a + h) - f(a - h) ) / (2h)\n",
    "end"
   ]
  },
  {
   "cell_type": "code",
   "execution_count": 17,
   "metadata": {},
   "outputs": [
    {
     "data": {
      "text/plain": [
       "dg (generic function with 1 method)"
      ]
     },
     "execution_count": 17,
     "metadata": {},
     "output_type": "execute_result"
    }
   ],
   "source": [
    "g(x) = x^2 - 2\n",
    "dg(x) = 2x"
   ]
  },
  {
   "cell_type": "code",
   "execution_count": 19,
   "metadata": {},
   "outputs": [
    {
     "data": {
      "text/plain": [
       "5.999999999999339"
      ]
     },
     "execution_count": 19,
     "metadata": {},
     "output_type": "execute_result"
    }
   ],
   "source": [
    "a = 3.0\n",
    "finite_difference(g, a)"
   ]
  },
  {
   "cell_type": "code",
   "execution_count": 20,
   "metadata": {},
   "outputs": [
    {
     "data": {
      "text/plain": [
       "6.0"
      ]
     },
     "execution_count": 20,
     "metadata": {},
     "output_type": "execute_result"
    }
   ],
   "source": [
    "dg(a)"
   ]
  },
  {
   "cell_type": "code",
   "execution_count": 22,
   "metadata": {},
   "outputs": [
    {
     "data": {
      "text/plain": [
       "5.999999999999872"
      ]
     },
     "execution_count": 22,
     "metadata": {},
     "output_type": "execute_result"
    }
   ],
   "source": [
    "finite_difference(g, a, 0.01)"
   ]
  },
  {
   "cell_type": "code",
   "execution_count": 24,
   "metadata": {},
   "outputs": [
    {
     "data": {
      "text/plain": [
       "newton (generic function with 3 methods)"
      ]
     },
     "execution_count": 24,
     "metadata": {},
     "output_type": "execute_result"
    }
   ],
   "source": [
    "function newton(f, x0)\n",
    "    # we need to calculate the derivative function dg\n",
    "    df = x -> finite_difference(f, x)\n",
    "    \n",
    "    return newton(f, df, x0)   # using the previous method we defined\n",
    "end"
   ]
  },
  {
   "cell_type": "markdown",
   "metadata": {},
   "source": [
    "Mathematically: $x \\mapsto f\\prime(x)$"
   ]
  },
  {
   "cell_type": "code",
   "execution_count": null,
   "metadata": {},
   "outputs": [],
   "source": [
    "function newton(f, x0)\n",
    "    # we need to calculate the derivative function dg\n",
    "    df = x -> finite_difference(f, x)\n",
    "    \n",
    "    return newton(f, df, x0)   # using the previous method we defined\n",
    "end"
   ]
  },
  {
   "cell_type": "code",
   "execution_count": 25,
   "metadata": {},
   "outputs": [
    {
     "data": {
      "text/plain": [
       "(1.414213562373095, 10)"
      ]
     },
     "execution_count": 25,
     "metadata": {},
     "output_type": "execute_result"
    }
   ],
   "source": [
    "newton(g, a)"
   ]
  },
  {
   "cell_type": "code",
   "execution_count": 26,
   "metadata": {},
   "outputs": [
    {
     "data": {
      "text/html": [
       "newton(f, x0) in Main at In[24]:3"
      ],
      "text/plain": [
       "newton(f, x0) in Main at In[24]:3"
      ]
     },
     "execution_count": 26,
     "metadata": {},
     "output_type": "execute_result"
    }
   ],
   "source": [
    "@which newton(g, a)"
   ]
  },
  {
   "cell_type": "markdown",
   "metadata": {},
   "source": [
    "`newton` is a **generic function**"
   ]
  },
  {
   "cell_type": "code",
   "execution_count": 27,
   "metadata": {},
   "outputs": [
    {
     "data": {
      "text/html": [
       "3 methods for generic function <b>newton</b>:<ul><li> newton(f, x0) in Main at In[24]:3</li> <li> newton(f, df, x0) in Main at In[12]:5</li> <li> newton(f, df, x0, n) in Main at In[12]:5</li> </ul>"
      ],
      "text/plain": [
       "# 3 methods for generic function \"newton\":\n",
       "[1] newton(f, x0) in Main at In[24]:3\n",
       "[2] newton(f, df, x0) in Main at In[12]:5\n",
       "[3] newton(f, df, x0, n) in Main at In[12]:5"
      ]
     },
     "execution_count": 27,
     "metadata": {},
     "output_type": "execute_result"
    }
   ],
   "source": [
    "methods(newton)"
   ]
  },
  {
   "cell_type": "markdown",
   "metadata": {},
   "source": [
    "### Algorithmic differentiation"
   ]
  },
  {
   "cell_type": "markdown",
   "metadata": {},
   "source": [
    "An alternative way to calculate derivatives is by using [**algorithmic differentiation**](https://en.wikipedia.org/wiki/Automatic_differentiation) (also called **automatic differentiation** or **computational differentiation**). This gives exact results (up to rounding error).\n",
    "\n",
    "\n",
    "We will implement this algorithm in the next notebook, but for now let's just use the implementation in the excellent [`ForwardDiff.jl` package](https://github.com/JuliaDiff/ForwardDiff.jl).\n"
   ]
  },
  {
   "cell_type": "markdown",
   "metadata": {},
   "source": [
    "#### Exercise 3"
   ]
  },
  {
   "cell_type": "markdown",
   "metadata": {},
   "source": [
    "1. Install `ForwardDiff.jl` if necessary.\n",
    "\n",
    "\n",
    "2. Import it.\n",
    "\n",
    "\n",
    "3. Define a function `forwarddiff` that uses the `ForwardDiff.derivative` function to calculate a derivative."
   ]
  },
  {
   "cell_type": "code",
   "execution_count": 28,
   "metadata": {},
   "outputs": [
    {
     "name": "stdout",
     "output_type": "stream",
     "text": [
      "\u001b[32m\u001b[1m  Updating\u001b[22m\u001b[39m registry at `~/.julia/registries/General`\n",
      "\u001b[32m\u001b[1m  Updating\u001b[22m\u001b[39m git-repo `https://github.com/JuliaRegistries/General.git`\n",
      "\u001b[2K\u001b[?25h[1mFetching:\u001b[22m\u001b[39m [========================================>]  100.0 %.0 %\u001b[32m\u001b[1m Resolving\u001b[22m\u001b[39m package versions...\n",
      "\u001b[32m\u001b[1m Installed\u001b[22m\u001b[39m SparseDiffTools ─ v0.5.0\n",
      "\u001b[32m\u001b[1m  Updating\u001b[22m\u001b[39m `~/.julia/environments/v1.1/Project.toml`\n",
      "\u001b[90m [no changes]\u001b[39m\n",
      "\u001b[32m\u001b[1m  Updating\u001b[22m\u001b[39m `~/.julia/environments/v1.1/Manifest.toml`\n",
      " \u001b[90m [7869d1d1]\u001b[39m\u001b[91m - IRTools v0.2.2\u001b[39m\n",
      " \u001b[90m [872c559c]\u001b[39m\u001b[91m - NNlib v0.6.0\u001b[39m\n",
      " \u001b[90m [47a9eef4]\u001b[39m\u001b[93m ↑ SparseDiffTools v0.4.1 ⇒ v0.5.0\u001b[39m\n",
      " \u001b[90m [a759f4b9]\u001b[39m\u001b[91m - TimerOutputs v0.5.0\u001b[39m\n",
      " \u001b[90m [e88e6eb3]\u001b[39m\u001b[91m - Zygote v0.3.2\u001b[39m\n"
     ]
    }
   ],
   "source": [
    "using Pkg\n",
    "\n",
    "Pkg.add(\"ForwardDiff\")"
   ]
  },
  {
   "cell_type": "code",
   "execution_count": 29,
   "metadata": {},
   "outputs": [
    {
     "name": "stdout",
     "output_type": "stream",
     "text": [
      "\u001b[32m\u001b[1m Resolving\u001b[22m\u001b[39m package versions...\n",
      "\u001b[32m\u001b[1m  Updating\u001b[22m\u001b[39m `~/.julia/environments/v1.1/Project.toml`\n",
      "\u001b[90m [no changes]\u001b[39m\n",
      "\u001b[32m\u001b[1m  Updating\u001b[22m\u001b[39m `~/.julia/environments/v1.1/Manifest.toml`\n",
      "\u001b[90m [no changes]\u001b[39m\n"
     ]
    }
   ],
   "source": [
    "]add ForwardDiff"
   ]
  },
  {
   "cell_type": "code",
   "execution_count": 30,
   "metadata": {},
   "outputs": [],
   "source": [
    "import ForwardDiff"
   ]
  },
  {
   "cell_type": "code",
   "execution_count": 31,
   "metadata": {},
   "outputs": [
    {
     "data": {
      "text/plain": [
       "forwarddiff (generic function with 1 method)"
      ]
     },
     "execution_count": 31,
     "metadata": {},
     "output_type": "execute_result"
    }
   ],
   "source": [
    "forwarddiff(f, x) = ForwardDiff.derivative(f, x)"
   ]
  },
  {
   "cell_type": "code",
   "execution_count": 32,
   "metadata": {},
   "outputs": [
    {
     "data": {
      "text/plain": [
       "6.0"
      ]
     },
     "execution_count": 32,
     "metadata": {},
     "output_type": "execute_result"
    }
   ],
   "source": [
    "forwarddiff(g, a)"
   ]
  },
  {
   "cell_type": "markdown",
   "metadata": {},
   "source": [
    "### Choosing between algorithms"
   ]
  },
  {
   "cell_type": "markdown",
   "metadata": {},
   "source": [
    "We now have two different algorithms available to calculate derivatives. This kind of situation is common in scientific computing; for example, the [`DifferentialEquations.jl`](http://docs.juliadiffeq.org/latest/) ecosystem has some 300 algorithms for solving differential equations. One of the techniques we will learn is how to easily be able to specify different algorithms."
   ]
  },
  {
   "cell_type": "markdown",
   "metadata": {},
   "source": [
    "One possible solution is just by specifying the *function* to use as an argument to another function:"
   ]
  },
  {
   "cell_type": "markdown",
   "metadata": {},
   "source": [
    "#### Exercise 4"
   ]
  },
  {
   "cell_type": "markdown",
   "metadata": {},
   "source": [
    "1. Make a version of the Newton algorithm that takes an argument which is the algorithm to use to calculate the derivative. \n",
    "\n",
    "    Hint: Here we will just pass in the function as an argument by giving its name as a parameter."
   ]
  },
  {
   "cell_type": "code",
   "execution_count": 33,
   "metadata": {},
   "outputs": [
    {
     "data": {
      "text/html": [
       "3 methods for generic function <b>newton</b>:<ul><li> newton(f, x0) in Main at In[24]:3</li> <li> newton(f, df, x0) in Main at In[12]:5</li> <li> newton(f, df, x0, n) in Main at In[12]:5</li> </ul>"
      ],
      "text/plain": [
       "# 3 methods for generic function \"newton\":\n",
       "[1] newton(f, x0) in Main at In[24]:3\n",
       "[2] newton(f, df, x0) in Main at In[12]:5\n",
       "[3] newton(f, df, x0, n) in Main at In[12]:5"
      ]
     },
     "execution_count": 33,
     "metadata": {},
     "output_type": "execute_result"
    }
   ],
   "source": [
    "methods(newton)"
   ]
  },
  {
   "cell_type": "markdown",
   "metadata": {},
   "source": [
    "Make this a keyword argument"
   ]
  },
  {
   "cell_type": "code",
   "execution_count": 36,
   "metadata": {},
   "outputs": [
    {
     "data": {
      "text/plain": [
       "newton (generic function with 3 methods)"
      ]
     },
     "execution_count": 36,
     "metadata": {},
     "output_type": "execute_result"
    }
   ],
   "source": [
    "function newton(f, x; derivative)\n",
    "    df = x -> derivative(f, x)\n",
    "    \n",
    "    return newton(f, df, x)\n",
    "end"
   ]
  },
  {
   "cell_type": "code",
   "execution_count": 37,
   "metadata": {},
   "outputs": [
    {
     "data": {
      "text/plain": [
       "(1.414213562373095, 10)"
      ]
     },
     "execution_count": 37,
     "metadata": {},
     "output_type": "execute_result"
    }
   ],
   "source": [
    "newton(g, a; derivative=forwarddiff)"
   ]
  },
  {
   "cell_type": "code",
   "execution_count": null,
   "metadata": {},
   "outputs": [],
   "source": [
    "newton(g, a; derivative=forwarddiff)"
   ]
  },
  {
   "cell_type": "code",
   "execution_count": 39,
   "metadata": {},
   "outputs": [
    {
     "data": {
      "text/plain": [
       "newton (generic function with 4 methods)"
      ]
     },
     "execution_count": 39,
     "metadata": {},
     "output_type": "execute_result"
    }
   ],
   "source": [
    "function newton(f, x, derivative::Function)\n",
    "     df = x -> derivative(f, x)\n",
    "    \n",
    "    return newton(f, df, x)\n",
    "end"
   ]
  },
  {
   "cell_type": "code",
   "execution_count": 40,
   "metadata": {},
   "outputs": [
    {
     "data": {
      "text/plain": [
       "(1.414213562373095, 10)"
      ]
     },
     "execution_count": 40,
     "metadata": {},
     "output_type": "execute_result"
    }
   ],
   "source": [
    "newton(g, a, forwarddiff)"
   ]
  },
  {
   "cell_type": "markdown",
   "metadata": {},
   "source": [
    "For some purposes this technique of passing functions may be sufficient. In a later notebook we will see a more powerful technique to specify different algorithms."
   ]
  },
  {
   "cell_type": "code",
   "execution_count": 41,
   "metadata": {},
   "outputs": [
    {
     "data": {
      "text/html": [
       "4 methods for generic function <b>newton</b>:<ul><li> newton(f, x; <i>derivative</i>) in Main at In[36]:2</li> <li> newton(f, x, derivative::<b>Function</b>) in Main at In[39]:2</li> <li> newton(f, df, x0) in Main at In[12]:5</li> <li> newton(f, df, x0, n) in Main at In[12]:5</li> </ul>"
      ],
      "text/plain": [
       "# 4 methods for generic function \"newton\":\n",
       "[1] newton(f, x; derivative) in Main at In[36]:2\n",
       "[2] newton(f, x, derivative::Function) in Main at In[39]:2\n",
       "[3] newton(f, df, x0) in Main at In[12]:5\n",
       "[4] newton(f, df, x0, n) in Main at In[12]:5"
      ]
     },
     "execution_count": 41,
     "metadata": {},
     "output_type": "execute_result"
    }
   ],
   "source": [
    "methods(newton)"
   ]
  },
  {
   "cell_type": "code",
   "execution_count": null,
   "metadata": {},
   "outputs": [],
   "source": []
  }
 ],
 "metadata": {
  "kernelspec": {
   "display_name": "Julia 1.1.0",
   "language": "julia",
   "name": "julia-1.1"
  },
  "language_info": {
   "file_extension": ".jl",
   "mimetype": "application/julia",
   "name": "julia",
   "version": "1.1.0"
  }
 },
 "nbformat": 4,
 "nbformat_minor": 2
}
